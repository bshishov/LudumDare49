{
 "cells": [
  {
   "cell_type": "code",
   "execution_count": 2,
   "id": "6b5602d4",
   "metadata": {},
   "outputs": [],
   "source": [
    "import numpy as np\n",
    "import matplotlib.pyplot as plt"
   ]
  },
  {
   "cell_type": "code",
   "execution_count": 174,
   "id": "f8b95904",
   "metadata": {},
   "outputs": [],
   "source": [
    "PLAYING_HOURS = 8\n",
    "PLAYING_MINUTES = PLAYING_HOURS*60\n",
    "INCOME_MULTIPLIER = 2\n",
    "ROLLING_PRICE = 100\n",
    "INCOME_PERIOD_MINUTES = 1\n",
    "\n",
    "# could be full-table though (each item has each own distribution )\n",
    "\n",
    "RARITY_DISTRIBUTION = [0.5, 0.25, 0.13, 0.07, 0.05]\n",
    "CLASS_DISTRIBUTION = {\"head\": 0.2, \"weapon\": 0.1, \"trinket\": 0.35, \"body\": 0.15, \"boots\": 0.2}\n",
    "QUALITY_MULTIPLIER = {\"shitty\": 0.7, \"bad\": 0.85, \"normal\": 1, \"good\": 1.2, \"divine\": 1.4}\n",
    "QUALITY_DISTRIBUITION = {\"shitty\": 0.35, \"bad\": 0.25, \"normal\": 0.25, \"good\": 0.1, \"divine\": 0.05}\n",
    "\n",
    "# health check\n",
    "assert np.sum(RARITY_DISTRIBUTION) == 1\n",
    "assert np.sum(list(CLASS_DISTRIBUTION.values())) == 1\n",
    "assert np.sum(list(QUALITY_DISTRIBUITION.values())) == 1\n",
    "\n",
    "POWER_DISTRIBUTION = {\"head\": [7, 8, 9, 10, 12],\n",
    "                     \"weapon\": [11, 12, 13, 14, 16],\n",
    "                     \"trinket\": [5,6, 7, 8, 10],\n",
    "                     \"body\": [9, 10, 11, 12, 14],\n",
    "                     \"boots\": [7, 8, 9, 10, 12]} \n",
    "character = {\"head\":0, \"weapon\": 0,\"trinket\": 0,\"body\": 0, \"boots\": 0} \n",
    "\n",
    "FINAL_TARGET = np.sum([i[-1] for i in list(POWER_DISTRIBUTION.values())])\n",
    "\n",
    "INITIAL_BALANCE = 1000\n",
    "MINUTE_PER_STEP = 0.25"
   ]
  },
  {
   "cell_type": "code",
   "execution_count": 163,
   "id": "daf2b980",
   "metadata": {},
   "outputs": [
    {
     "data": {
      "text/plain": [
       "64"
      ]
     },
     "execution_count": 163,
     "metadata": {},
     "output_type": "execute_result"
    }
   ],
   "source": [
    "FINAL_TARGET"
   ]
  },
  {
   "cell_type": "code",
   "execution_count": 164,
   "id": "d0eda645",
   "metadata": {},
   "outputs": [],
   "source": [
    "def null_character(character):\n",
    "    for i in character:\n",
    "        character[i] = 0"
   ]
  },
  {
   "cell_type": "code",
   "execution_count": 165,
   "id": "bd4afd95",
   "metadata": {},
   "outputs": [],
   "source": [
    "def roll(character):\n",
    "    item = np.random.choice(list(CLASS_DISTRIBUTION.keys()), 1, p=list(CLASS_DISTRIBUTION.values()))[0]\n",
    "    rarity = np.random.choice(np.arange(5), 1, p=RARITY_DISTRIBUTION)[0]\n",
    "    quality = np.random.choice(list(QUALITY_DISTRIBUITION.keys()), 1, p=list(QUALITY_DISTRIBUITION.values()))[0]\n",
    "    \n",
    "    candidate = POWER_DISTRIBUTION[item][rarity] * QUALITY_MULTIPLIER[quality]\n",
    "    if character[item] < candidate:\n",
    "        character[item] = candidate"
   ]
  },
  {
   "cell_type": "code",
   "execution_count": 166,
   "id": "bd8d5479",
   "metadata": {},
   "outputs": [],
   "source": [
    "def return_power(character):\n",
    "    return np.sum(list(character.values()))"
   ]
  },
  {
   "cell_type": "code",
   "execution_count": 167,
   "id": "348ea690",
   "metadata": {},
   "outputs": [],
   "source": [
    "\n",
    "def one_step(power_over_time, balance, current_time, time_waiting, time_not_improving):\n",
    "    curr_power = return_power(character)\n",
    "    if balance > ROLLING_PRICE:\n",
    "        roll(character)\n",
    "        if return_power(character) == curr_power:\n",
    "            time_not_improving.append([current_time, return_power(character)])\n",
    "        else:\n",
    "            power_over_time.append([current_time, return_power(character)])\n",
    "        balance -= ROLLING_PRICE\n",
    "    else:\n",
    "        time_waiting.append([current_time, return_power(character)])\n",
    "        \n",
    "   \n",
    "    \n",
    "    current_time += MINUTE_PER_STEP\n",
    "    \n",
    "    if current_time%INCOME_PERIOD_MINUTES==0:\n",
    "        balance += INCOME_MULTIPLIER*return_power(character)\n",
    "        \n",
    "    return power_over_time, balance, current_time, time_waiting, time_not_improving"
   ]
  },
  {
   "cell_type": "code",
   "execution_count": null,
   "id": "e9a36777",
   "metadata": {},
   "outputs": [],
   "source": []
  },
  {
   "cell_type": "code",
   "execution_count": 175,
   "id": "d3f544b9",
   "metadata": {},
   "outputs": [],
   "source": [
    "power_over_time, time_waiting, time_not_improving = [], [], []\n",
    "balance = INITIAL_BALANCE\n",
    "current_time = 0\n",
    "\n",
    "null_character(character)\n",
    "while current_time < PLAYING_MINUTES and return_power(character) < FINAL_TARGET:\n",
    "    power_over_time, balance, current_time, time_waiting, time_not_improving = one_step(power_over_time, balance, current_time, time_waiting, time_not_improving)\n",
    "power_over_time, time_waiting, time_not_improving = np.array(power_over_time), np.array(time_waiting), np.array(time_not_improving)"
   ]
  },
  {
   "cell_type": "code",
   "execution_count": 176,
   "id": "dcd91279",
   "metadata": {},
   "outputs": [
    {
     "data": {
      "text/plain": [
       "<matplotlib.collections.PathCollection at 0x1e017d2ae08>"
      ]
     },
     "execution_count": 176,
     "metadata": {},
     "output_type": "execute_result"
    },
    {
     "data": {
      "image/png": "[encoded data removed]",
      "text/plain": [
       "<Figure size 1080x1080 with 1 Axes>"
      ]
     },
     "metadata": {
      "needs_background": "light"
     },
     "output_type": "display_data"
    }
   ],
   "source": [
    "plt.figure(figsize=(15,15))\n",
    "plt.scatter(time_waiting.T[0],time_waiting.T[1], c='r', s=2)\n",
    "plt.scatter(time_not_improving.T[0],time_not_improving.T[1], c='b', s=2)\n",
    "plt.scatter(power_over_time.T[0],power_over_time.T[1], c='g', s=2)"
   ]
  },
  {
   "cell_type": "code",
   "execution_count": 177,
   "id": "21fd8f04",
   "metadata": {},
   "outputs": [
    {
     "data": {
      "text/plain": [
       "(166, 49)"
      ]
     },
     "execution_count": 177,
     "metadata": {},
     "output_type": "execute_result"
    }
   ],
   "source": [
    "len(time_waiting), len(time_not_improving)"
   ]
  },
  {
   "cell_type": "code",
   "execution_count": 180,
   "id": "bc507931",
   "metadata": {},
   "outputs": [
    {
     "ename": "NameError",
     "evalue": "name 'CHARACTER' is not defined",
     "output_type": "error",
     "traceback": [
      "\u001b[1;31m---------------------------------------------------------------------------\u001b[0m",
      "\u001b[1;31mNameError\u001b[0m                                 Traceback (most recent call last)",
      "\u001b[1;32m~\\AppData\\Local\\Temp/ipykernel_17060/3218653096.py\u001b[0m in \u001b[0;36m<module>\u001b[1;34m\u001b[0m\n\u001b[0;32m     18\u001b[0m     \u001b[1;32mwith\u001b[0m \u001b[0mopen\u001b[0m\u001b[1;33m(\u001b[0m\u001b[1;34m'params.json'\u001b[0m\u001b[1;33m,\u001b[0m \u001b[1;34m'w'\u001b[0m\u001b[1;33m)\u001b[0m \u001b[1;32mas\u001b[0m \u001b[0mjson_file\u001b[0m\u001b[1;33m:\u001b[0m\u001b[1;33m\u001b[0m\u001b[1;33m\u001b[0m\u001b[0m\n\u001b[0;32m     19\u001b[0m         \u001b[0mjson\u001b[0m\u001b[1;33m.\u001b[0m\u001b[0mdump\u001b[0m\u001b[1;33m(\u001b[0m\u001b[0mparams\u001b[0m\u001b[1;33m,\u001b[0m \u001b[0mjson_file\u001b[0m\u001b[1;33m)\u001b[0m\u001b[1;33m\u001b[0m\u001b[1;33m\u001b[0m\u001b[0m\n\u001b[1;32m---> 20\u001b[1;33m \u001b[0mto_params\u001b[0m\u001b[1;33m(\u001b[0m\u001b[1;33m)\u001b[0m\u001b[1;33m\u001b[0m\u001b[1;33m\u001b[0m\u001b[0m\n\u001b[0m",
      "\u001b[1;32m~\\AppData\\Local\\Temp/ipykernel_17060/3218653096.py\u001b[0m in \u001b[0;36mto_params\u001b[1;34m()\u001b[0m\n\u001b[0;32m     12\u001b[0m \u001b[1;33m\u001b[0m\u001b[0m\n\u001b[0;32m     13\u001b[0m     \u001b[1;34m'POWER_DISTRIBUTION'\u001b[0m\u001b[1;33m:\u001b[0m \u001b[0mPOWER_DISTRIBUTION\u001b[0m\u001b[1;33m,\u001b[0m\u001b[1;33m\u001b[0m\u001b[1;33m\u001b[0m\u001b[0m\n\u001b[1;32m---> 14\u001b[1;33m     \u001b[1;34m'CHARACTER'\u001b[0m\u001b[1;33m:\u001b[0m \u001b[0mCHARACTER\u001b[0m\u001b[1;33m,\u001b[0m\u001b[1;33m\u001b[0m\u001b[1;33m\u001b[0m\u001b[0m\n\u001b[0m\u001b[0;32m     15\u001b[0m \u001b[1;33m\u001b[0m\u001b[0m\n\u001b[0;32m     16\u001b[0m     \u001b[1;34m'INITIAL_BALANCE'\u001b[0m\u001b[1;33m:\u001b[0m \u001b[0mINITIAL_BALANCE\u001b[0m\u001b[1;33m\u001b[0m\u001b[1;33m\u001b[0m\u001b[0m\n",
      "\u001b[1;31mNameError\u001b[0m: name 'CHARACTER' is not defined"
     ]
    }
   ],
   "source": [
    "import json\n",
    "def to_params():\n",
    "    params = {\n",
    "    'INCOME_MULTIPLIER': INCOME_MULTIPLIER,\n",
    "    'ROLLING_PRICE': INCOME_MULTIPLIER,\n",
    "    'INCOME_PERIOD_MINUTES': INCOME_PERIOD_MINUTES,\n",
    "\n",
    "    'RARITY_DISTRIBUTION': RARITY_DISTRIBUTION,\n",
    "    'CLASS_DISTRIBUTION': CLASS_DISTRIBUTION,\n",
    "    'QUALITY_MULTIPLIER': QUALITY_MULTIPLIER,\n",
    "    'QUALITY_DISTRIBUITION': QUALITY_DISTRIBUITION,\n",
    "\n",
    "    'POWER_DISTRIBUTION': POWER_DISTRIBUTION,\n",
    "    'CHARACTER': CHARACTER,\n",
    "\n",
    "    'INITIAL_BALANCE': INITIAL_BALANCE\n",
    "    }\n",
    "    with open('params.json', 'w') as json_file:\n",
    "        json.dump(params, json_file)\n",
    "to_params()"
   ]
  },
  {
   "cell_type": "code",
   "execution_count": null,
   "id": "aa9dc279",
   "metadata": {},
   "outputs": [],
   "source": []
  }
 ],
 "metadata": {
  "kernelspec": {
   "display_name": "Python 3 (ipykernel)",
   "language": "python",
   "name": "python3"
  },
  "language_info": {
   "codemirror_mode": {
    "name": "ipython",
    "version": 3
   },
   "file_extension": ".py",
   "mimetype": "text/x-python",
   "name": "python",
   "nbconvert_exporter": "python",
   "pygments_lexer": "ipython3",
   "version": "3.7.11"
  }
 },
 "nbformat": 4,
 "nbformat_minor": 5
}
