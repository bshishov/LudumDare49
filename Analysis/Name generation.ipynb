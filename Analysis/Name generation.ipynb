{
 "cells": [
  {
   "cell_type": "code",
   "execution_count": 1,
   "id": "6a9cfdde",
   "metadata": {},
   "outputs": [],
   "source": [
    "import numpy as np\n",
    "import matplotlib.pyplot as plt"
   ]
  },
  {
   "cell_type": "markdown",
   "id": "64bc778f",
   "metadata": {},
   "source": [
    "# Items"
   ]
  },
  {
   "cell_type": "code",
   "execution_count": 17,
   "id": "3fa219d1",
   "metadata": {},
   "outputs": [],
   "source": [
    "keys = [\"id\", \"power\", \"slot\", \"rarity\"]\n",
    "item_names = {\"head\": [\"cocked_hat\", \"sombrero\", \"shrek_hat\", \"horned_helmet\", \"astornaut_helmet\"],\n",
    "\"body\": [\"maid\", \"tshirt\", \"crab\", \"sumo\", \"dino\"],\n",
    "\"boots\": [ \"brick\", \"shoe\", \"ankle\", \"rollers\",\"armor\"],\n",
    "\"trinket\": [\"donut\", \"logo_ld\", \"crystal\",   \"new_item_19\", \"illuminati\"],\n",
    "\"weapon\": [ \"fan\", \"fork\", \"dagger\", \"bow\",  \"mace\"]}\n",
    "\n",
    "rarity = [\"common\", \"uncommon\", \"rare\", \"epic\", \"legendary\"]\n",
    "\n",
    "\n",
    "FIRST_DISTRIBUTION = {\"head\": [7, 8, 9, 10, 12],\n",
    "                     \"weapon\": [11, 12, 13, 14, 16],\n",
    "                     \"trinket\": [5,6, 7, 8, 10],\n",
    "                     \"body\": [9, 10, 11, 12, 14],\n",
    "                     \"boots\": [7, 8, 9, 10, 12]} "
   ]
  },
  {
   "cell_type": "code",
   "execution_count": 22,
   "id": "abb1d34f",
   "metadata": {},
   "outputs": [],
   "source": [
    "list_items = []\n",
    "for slot in item_names:\n",
    "    for ind, item in enumerate(item_names[slot]):\n",
    "        one_item = {\"id\": f\"{item}_{rarity[ind]}\", \"power\": FIRST_DISTRIBUTION[slot][ind], \"slot\": slot, \"rarity\": rarity[ind]}\n",
    "        list_items.append(one_item)"
   ]
  },
  {
   "cell_type": "code",
   "execution_count": 23,
   "id": "afb81df6",
   "metadata": {},
   "outputs": [],
   "source": [
    "import json \n",
    "with open('items.json', 'w') as json_file:\n",
    "        json.dump(list_items, json_file, indent=2)"
   ]
  },
  {
   "cell_type": "code",
   "execution_count": 30,
   "id": "d753e6e9",
   "metadata": {},
   "outputs": [],
   "source": [
    "RARITY_DISTRIBUTION = [0.5, 0.25, 0.13, 0.07, 0.05]\n",
    "CLASS_DISTRIBUTION = {\"head\": 0.2, \"weapon\": 0.1, \"trinket\": 0.35, \"body\": 0.15, \"boots\": 0.2}\n",
    "QUALITY_DISTRIBUITION = {\"shitty\": 0.35, \"bad\": 0.25, \"normal\": 0.25, \"good\": 0.1, \"divine\": 0.05}\n",
    "merch_items = []\n",
    "for slot in item_names:\n",
    "    for ind, item in enumerate(item_names[slot]):\n",
    "        merch_items.append({\"item\": f\"{item}_{rarity[ind]}\", \"probability\": round(CLASS_DISTRIBUTION[slot]*RARITY_DISTRIBUTION[ind], 4)})"
   ]
  },
  {
   "cell_type": "code",
   "execution_count": 32,
   "id": "0da22622",
   "metadata": {},
   "outputs": [
    {
     "data": {
      "text/plain": [
       "1.0"
      ]
     },
     "execution_count": 32,
     "metadata": {},
     "output_type": "execute_result"
    }
   ],
   "source": [
    "s = 0\n",
    "for i in merch_items:\n",
    "    s += i['probability']\n",
    "s"
   ]
  },
  {
   "cell_type": "code",
   "execution_count": 33,
   "id": "091d1525",
   "metadata": {},
   "outputs": [],
   "source": [
    "import json \n",
    "with open('items.json', 'w') as json_file:\n",
    "    merch_dict = {\"id\": \"first\", \"roll_price\": 100, \"quality_distribution\": QUALITY_DISTRIBUITION, \"items\": merch_items}\n",
    "    json.dump(merch_dict, json_file, indent=2)"
   ]
  },
  {
   "cell_type": "code",
   "execution_count": null,
   "id": "e8a705e4",
   "metadata": {},
   "outputs": [],
   "source": []
  }
 ],
 "metadata": {
  "kernelspec": {
   "display_name": "Python 3 (ipykernel)",
   "language": "python",
   "name": "python3"
  },
  "language_info": {
   "codemirror_mode": {
    "name": "ipython",
    "version": 3
   },
   "file_extension": ".py",
   "mimetype": "text/x-python",
   "name": "python",
   "nbconvert_exporter": "python",
   "pygments_lexer": "ipython3",
   "version": "3.7.11"
  }
 },
 "nbformat": 4,
 "nbformat_minor": 5
}
