{
 "cells": [
  {
   "cell_type": "code",
   "execution_count": 11,
   "id": "6b5602d4",
   "metadata": {},
   "outputs": [],
   "source": [
    "import numpy as np\n",
    "import matplotlib.pyplot as plt"
   ]
  },
  {
   "cell_type": "code",
   "execution_count": 114,
   "id": "f8b95904",
   "metadata": {},
   "outputs": [],
   "source": [
    "PLAYING_HOURS = 8\n",
    "PLAYING_MINUTES = PLAYING_HOURS*60\n",
    "INCOME_MULTIPLIER = 1.5\n",
    "ROLLING_PRICE = 150\n",
    "INCOME_PERIOD_MINUTES = 5\n",
    "\n",
    "# could be full-table though (each item has each own distribution )\n",
    "\n",
    "RARITY_DISTRIBUTION = [0.53, 0.25, 0.13, 0.06, 0.03]\n",
    "CLASS_DISTRIBUTION = {\"helmet\": 0.2, \"weapon\": 0.1, \"trinket\": 0.35, \"clothes\": 0.15, \"boots\": 0.2}\n",
    "QUALITY_MULTIPLIER = {\"shitty\": 0.6, \"bad\": 0.8, \"normal\": 1, \"good\": 1.2, \"divine\": 1.4}\n",
    "QUALITY_DISTRIBUITION = {\"shitty\": 0.05, \"bad\": 0.2, \"normal\": 0.5, \"good\": 0.2, \"divine\": 0.05}\n",
    "\n",
    "# health check\n",
    "assert np.sum(RARITY_DISTRIBUTION) == 1\n",
    "assert np.sum(list(CLASS_DISTRIBUTION.values())) == 1\n",
    "assert np.sum(list(QUALITY_DISTRIBUITION.values())) == 1\n",
    "\n",
    "POWER_DISTRIBUTION = {\"helmet\": [2, 3, 4, 5, 6],\n",
    "                     \"weapon\": [4, 5, 6, 7, 8],\n",
    "                     \"trinket\": [1,2, 3, 4, 5],\n",
    "                     \"clothes\": [3, 4, 5, 6, 7],\n",
    "                     \"boots\": [2, 3, 4, 5, 6]} \n",
    "character = {\"helmet\":0, \"weapon\": 0,\"trinket\": 0,\"clothes\": 0, \"boots\": 0} \n",
    "\n",
    "FINAL_TARGET = np.sum([i[-1] for i in list(POWER_DISTRIBUTION.values())])\n",
    "\n",
    "INITIAL_BALANCE = 500\n",
    "MINUTE_PER_STEP = 1"
   ]
  },
  {
   "cell_type": "code",
   "execution_count": 121,
   "id": "deb1be13",
   "metadata": {},
   "outputs": [
    {
     "data": {
      "text/plain": [
       "480"
      ]
     },
     "execution_count": 121,
     "metadata": {},
     "output_type": "execute_result"
    }
   ],
   "source": [
    "PLAYING_MINUTES"
   ]
  },
  {
   "cell_type": "code",
   "execution_count": 17,
   "id": "d0eda645",
   "metadata": {},
   "outputs": [],
   "source": [
    "def null_character(character):\n",
    "    for i in character:\n",
    "        character[i] = 0"
   ]
  },
  {
   "cell_type": "code",
   "execution_count": 116,
   "id": "bd4afd95",
   "metadata": {},
   "outputs": [],
   "source": [
    "def roll(character):\n",
    "    item = np.random.choice(list(CLASS_DISTRIBUTION.keys()), 1, p=list(CLASS_DISTRIBUTION.values()))[0]\n",
    "    rarity = np.random.choice(np.arange(5), 1, p=RARITY_DISTRIBUTION)[0]\n",
    "    quality = np.random.choice(list(QUALITY_DISTRIBUITION.keys()), 1, p=list(QUALITY_DISTRIBUITION.values()))[0]\n",
    "    \n",
    "    candidate = POWER_DISTRIBUTION[item][rarity] * QUALITY_MULTIPLIER[quality]\n",
    "    if character[item] < candidate:\n",
    "        character[item] = candidate"
   ]
  },
  {
   "cell_type": "code",
   "execution_count": 108,
   "id": "bd8d5479",
   "metadata": {},
   "outputs": [],
   "source": [
    "def return_power(character):\n",
    "    return np.sum(list(character.values()))"
   ]
  },
  {
   "cell_type": "code",
   "execution_count": 118,
   "id": "348ea690",
   "metadata": {},
   "outputs": [],
   "source": [
    "def one_step(power_over_time, balance, current_time):\n",
    "    if balance > ROLLING_PRICE:\n",
    "        roll(character)\n",
    "        balance -= ROLLING_PRICE\n",
    "        \n",
    "    power_over_time.append(return_power(character))\n",
    "    \n",
    "    current_time += MINUTE_PER_STEP\n",
    "    \n",
    "    if current_time%INCOME_PERIOD_MINUTES==0:\n",
    "        balance += INCOME_MULTIPLIER*return_power(character)\n",
    "    return power_over_time, balance, current_time  "
   ]
  },
  {
   "cell_type": "code",
   "execution_count": null,
   "id": "e9a36777",
   "metadata": {},
   "outputs": [],
   "source": []
  },
  {
   "cell_type": "code",
   "execution_count": 119,
   "id": "d3f544b9",
   "metadata": {},
   "outputs": [],
   "source": [
    "power_over_time = []\n",
    "balance = INITIAL_BALANCE\n",
    "current_time = 0\n",
    "\n",
    "while current_time < PLAYING_MINUTES or return_power(character) < FINAL_TARGET:\n",
    "    power_over_time, balance, current_time = one_step(power_over_time, balance, current_time)"
   ]
  },
  {
   "cell_type": "code",
   "execution_count": 120,
   "id": "222c8778",
   "metadata": {},
   "outputs": [
    {
     "data": {
      "text/plain": [
       "[<matplotlib.lines.Line2D at 0x2760bfeea08>]"
      ]
     },
     "execution_count": 120,
     "metadata": {},
     "output_type": "execute_result"
    },
    {
     "data": {
      "image/png": "[encoded data removed]",
      "text/plain": [
       "<Figure size 432x288 with 1 Axes>"
      ]
     },
     "metadata": {
      "needs_background": "light"
     },
     "output_type": "display_data"
    }
   ],
   "source": [
    "plt.plot(power_over_time)"
   ]
  },
  {
   "cell_type": "code",
   "execution_count": 122,
   "id": "a704fa70",
   "metadata": {},
   "outputs": [
    {
     "data": {
      "text/plain": [
       "{'helmet': 7.199999999999999,\n",
       " 'weapon': 6,\n",
       " 'trinket': 6.0,\n",
       " 'clothes': 7.199999999999999,\n",
       " 'boots': 6}"
      ]
     },
     "execution_count": 122,
     "metadata": {},
     "output_type": "execute_result"
    }
   ],
   "source": [
    "character"
   ]
  },
  {
   "cell_type": "code",
   "execution_count": null,
   "id": "bc507931",
   "metadata": {},
   "outputs": [],
   "source": []
  }
 ],
 "metadata": {
  "kernelspec": {
   "display_name": "Python 3 (ipykernel)",
   "language": "python",
   "name": "python3"
  },
  "language_info": {
   "codemirror_mode": {
    "name": "ipython",
    "version": 3
   },
   "file_extension": ".py",
   "mimetype": "text/x-python",
   "name": "python",
   "nbconvert_exporter": "python",
   "pygments_lexer": "ipython3",
   "version": "3.7.11"
  }
 },
 "nbformat": 4,
 "nbformat_minor": 5
}
